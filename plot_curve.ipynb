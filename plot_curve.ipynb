{
 "cells": [
  {
   "cell_type": "code",
   "execution_count": null,
   "metadata": {},
   "outputs": [],
   "source": [
    "import numpy as np\n",
    "import matplotlib.pyplot as plt\n",
    "\n",
    "## plt.rcParams[\"font.family\"] = \"Times New Roman\"\n",
    "plt.rcParams[\"font.family\"] = \"serif\"\n",
    "\n",
    "\n",
    "\n",
    "# 定数\n",
    "L = 1.0\n",
    "\n",
    "# 媒介変数 t の範囲\n",
    "t_main = np.linspace(0.1, np.pi, 1000)\n",
    "\n",
    "# x, y の定義\n",
    "x_main = L * (1 - np.cos(t_main)) / t_main\n",
    "y_main = L * np.sin(t_main) / t_main\n",
    "\n",
    "# プロット\n",
    "plt.figure(figsize=(8, 6))\n",
    "## plt.plot(x_main, y_main, label=r'$\\frac{L (1 - \\cos(t))}{t}, \\frac{L \\sin(t)}{t}$')\n",
    "plt.plot(x_main, y_main, linestyle='--', color='k', label=r'$\\frac{L (1 - \\cos(\\theta))}{\\theta}, \\frac{L \\sin(\\theta)}{\\theta}$')\n",
    "\n",
    "\n",
    "# x軸とy軸の範囲を設定\n",
    "plt.xlim(0, 1.0)\n",
    "plt.ylim(0, 1.0)\n",
    "\n",
    "# 軸の比率を1:1に設定してグリッドを均等にする\n",
    "plt.gca().set_aspect('equal', adjustable='box')\n",
    "\n",
    "# t の異なる値でプロット\n",
    "t_values = [0.01, np.pi/6, np.pi/3, np.pi/2, np.pi*2/3, np.pi*5/6, np.pi]\n",
    "colors = ['r', 'g', 'b', 'c', 'orange', 'm', 'k']  # 各プロットの色\n",
    "\n",
    "for i, t in enumerate(t_values):\n",
    "    a = np.linspace(0.001, t, 100)\n",
    "    x = L * (1 - np.cos(a)) / t\n",
    "    y = L * np.sin(a) / t\n",
    "    plt.plot(x, y, color=colors[i], label=f'θ = {t:.2f}')\n",
    "\n",
    "\n",
    "# ラベルとタイトル\n",
    "plt.xlabel('x')\n",
    "plt.ylabel('y')\n",
    "## plt.title('Parametric Plot with Different t Values')\n",
    "\n",
    "# グリッド表示\n",
    "plt.grid(True)\n",
    "\n",
    "# 凡例の表示\n",
    "plt.legend()\n",
    "\n",
    "# グラフを表示\n",
    "plt.show()\n",
    "\n",
    "## plt.savefig(\"plot.svg\", format=\"svg\")\n",
    "## plt.savefig(\"parametric_curve.pdf\", format=\"pdf\")\n"
   ]
  },
  {
   "cell_type": "code",
   "execution_count": null,
   "metadata": {},
   "outputs": [],
   "source": []
  },
  {
   "cell_type": "code",
   "execution_count": null,
   "metadata": {},
   "outputs": [],
   "source": []
  }
 ],
 "metadata": {
  "kernelspec": {
   "display_name": ".venv",
   "language": "python",
   "name": "python3"
  },
  "language_info": {
   "codemirror_mode": {
    "name": "ipython",
    "version": 3
   },
   "file_extension": ".py",
   "mimetype": "text/x-python",
   "name": "python",
   "nbconvert_exporter": "python",
   "pygments_lexer": "ipython3",
   "version": "3.11.10"
  }
 },
 "nbformat": 4,
 "nbformat_minor": 2
}
