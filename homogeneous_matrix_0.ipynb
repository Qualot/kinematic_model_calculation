{
 "cells": [
  {
   "cell_type": "code",
   "execution_count": 1,
   "metadata": {},
   "outputs": [],
   "source": [
    "#from sympy import symbols, cos, sin, Matrix, pi, sqrt, eye, zeros, simplify\n",
    "import sympy as sp\n",
    "import numpy as np\n",
    "import matplotlib.pyplot as plt"
   ]
  },
  {
   "cell_type": "markdown",
   "metadata": {},
   "source": [
    "## Defining homogeneous matrix for constant-curvature model [SSRR2024]"
   ]
  },
  {
   "cell_type": "code",
   "execution_count": 2,
   "metadata": {},
   "outputs": [
    {
     "data": {
      "text/latex": [
       "$\\displaystyle \\left[\\begin{matrix}\\cos{\\left(\\phi \\right)} \\cos{\\left(\\theta \\right)} & - \\sin{\\left(\\phi \\right)} & \\sin{\\left(\\theta \\right)} \\cos{\\left(\\phi \\right)} & \\frac{L \\left(1 - \\cos{\\left(\\theta \\right)}\\right) \\cos{\\left(\\phi \\right)}}{\\theta}\\\\\\sin{\\left(\\phi \\right)} \\cos{\\left(\\theta \\right)} & \\cos{\\left(\\phi \\right)} & \\sin{\\left(\\phi \\right)} \\sin{\\left(\\theta \\right)} & \\frac{L \\left(1 - \\cos{\\left(\\theta \\right)}\\right) \\sin{\\left(\\phi \\right)}}{\\theta}\\\\- \\sin{\\left(\\theta \\right)} & 0 & \\cos{\\left(\\theta \\right)} & \\frac{L \\sin{\\left(\\theta \\right)}}{\\theta}\\\\0 & 0 & 0 & 1\\end{matrix}\\right]$"
      ],
      "text/plain": [
       "Matrix([\n",
       "[cos(phi)*cos(theta), -sin(phi), sin(theta)*cos(phi), L*(1 - cos(theta))*cos(phi)/theta],\n",
       "[sin(phi)*cos(theta),  cos(phi), sin(phi)*sin(theta), L*(1 - cos(theta))*sin(phi)/theta],\n",
       "[        -sin(theta),         0,          cos(theta),                L*sin(theta)/theta],\n",
       "[                  0,         0,                   0,                                 1]])"
      ]
     },
     "metadata": {},
     "output_type": "display_data"
    }
   ],
   "source": [
    "# Defining variables\n",
    "theta = sp.symbols('theta')\n",
    "phi = sp.symbols('phi')\n",
    "L = sp.symbols('L')\n",
    "# x, y, z = symbols('x y z')\n",
    "\n",
    "# Defining matrices\n",
    "T = sp.Matrix([\n",
    "            [sp.cos(phi) * sp.cos(theta), -sp.sin(phi), sp.cos(phi) * sp.sin(theta), L / theta * sp.cos(phi) * (1 -sp.cos(theta))], \n",
    "            [sp.sin(phi) * sp.cos(theta),  sp.cos(phi), sp.sin(phi) * sp.sin(theta), L / theta * sp.sin(phi) * (1 -sp.cos(theta))], \n",
    "            [-sp.sin(theta), 0, sp.cos(theta), L / theta * sp.sin(theta)], \n",
    "            [0, 0, 0, 1]\n",
    "            ])\n",
    "\n",
    "\n",
    "T_supp = sp.Matrix([\n",
    "            [sp.cos(phi)**2 * (sp.cos(theta)-1) +1, sp.sin(phi) * sp.cos(phi) * (sp.cos(theta)-1), sp.cos(phi) * sp.sin(theta), L / theta * sp.cos(phi) * (1 -sp.cos(theta))], \n",
    "            [sp.sin(phi)* sp.cos(phi) * (sp.cos(theta)-1), sp.cos(phi)**2 *(1 -sp.cos(theta)) + sp.cos(theta), sp.sin(phi) * sp.sin(theta), L / theta * sp.sin(phi) * (1 -sp.cos(theta))], \n",
    "            [-sp.cos(phi) * sp.sin(theta), -sp.sin(phi) * sp.sin(theta), sp.cos(theta), L / theta * sp.sin(theta)], \n",
    "            [0, 0, 0, 1]\n",
    "            ])\n",
    "display(T)"
   ]
  },
  {
   "cell_type": "markdown",
   "metadata": {},
   "source": [
    "## Substitution example"
   ]
  },
  {
   "cell_type": "code",
   "execution_count": 3,
   "metadata": {},
   "outputs": [
    {
     "data": {
      "text/latex": [
       "$\\displaystyle \\left[\\begin{matrix}\\frac{\\sqrt{2} \\cos{\\left(\\phi \\right)}}{2} & - \\sin{\\left(\\phi \\right)} & \\frac{\\sqrt{2} \\cos{\\left(\\phi \\right)}}{2} & \\frac{4 L \\left(1 - \\frac{\\sqrt{2}}{2}\\right) \\cos{\\left(\\phi \\right)}}{\\pi}\\\\\\frac{\\sqrt{2} \\sin{\\left(\\phi \\right)}}{2} & \\cos{\\left(\\phi \\right)} & \\frac{\\sqrt{2} \\sin{\\left(\\phi \\right)}}{2} & \\frac{4 L \\left(1 - \\frac{\\sqrt{2}}{2}\\right) \\sin{\\left(\\phi \\right)}}{\\pi}\\\\- \\frac{\\sqrt{2}}{2} & 0 & \\frac{\\sqrt{2}}{2} & \\frac{2 \\sqrt{2} L}{\\pi}\\\\0 & 0 & 0 & 1\\end{matrix}\\right]$"
      ],
      "text/plain": [
       "Matrix([\n",
       "[sqrt(2)*cos(phi)/2, -sin(phi), sqrt(2)*cos(phi)/2, 4*L*(1 - sqrt(2)/2)*cos(phi)/pi],\n",
       "[sqrt(2)*sin(phi)/2,  cos(phi), sqrt(2)*sin(phi)/2, 4*L*(1 - sqrt(2)/2)*sin(phi)/pi],\n",
       "[        -sqrt(2)/2,         0,          sqrt(2)/2,                  2*sqrt(2)*L/pi],\n",
       "[                 0,         0,                  0,                               1]])"
      ]
     },
     "metadata": {},
     "output_type": "display_data"
    },
    {
     "data": {
      "text/latex": [
       "$\\displaystyle \\left[\\begin{matrix}\\frac{\\cos{\\left(\\theta \\right)}}{2} & - \\frac{\\sqrt{3}}{2} & \\frac{\\sin{\\left(\\theta \\right)}}{2} & \\frac{L \\left(1 - \\cos{\\left(\\theta \\right)}\\right)}{2 \\theta}\\\\\\frac{\\sqrt{3} \\cos{\\left(\\theta \\right)}}{2} & \\frac{1}{2} & \\frac{\\sqrt{3} \\sin{\\left(\\theta \\right)}}{2} & \\frac{\\sqrt{3} L \\left(1 - \\cos{\\left(\\theta \\right)}\\right)}{2 \\theta}\\\\- \\sin{\\left(\\theta \\right)} & 0 & \\cos{\\left(\\theta \\right)} & \\frac{L \\sin{\\left(\\theta \\right)}}{\\theta}\\\\0 & 0 & 0 & 1\\end{matrix}\\right]$"
      ],
      "text/plain": [
       "Matrix([\n",
       "[        cos(theta)/2, -sqrt(3)/2,         sin(theta)/2,         L*(1 - cos(theta))/(2*theta)],\n",
       "[sqrt(3)*cos(theta)/2,        1/2, sqrt(3)*sin(theta)/2, sqrt(3)*L*(1 - cos(theta))/(2*theta)],\n",
       "[         -sin(theta),          0,           cos(theta),                   L*sin(theta)/theta],\n",
       "[                   0,          0,                    0,                                    1]])"
      ]
     },
     "metadata": {},
     "output_type": "display_data"
    },
    {
     "data": {
      "text/latex": [
       "$\\displaystyle \\left[\\begin{matrix}\\frac{\\sqrt{2}}{4} & - \\frac{\\sqrt{3}}{2} & \\frac{\\sqrt{2}}{4} & \\frac{2 L \\left(1 - \\frac{\\sqrt{2}}{2}\\right)}{\\pi}\\\\\\frac{\\sqrt{6}}{4} & \\frac{1}{2} & \\frac{\\sqrt{6}}{4} & \\frac{2 \\sqrt{3} L \\left(1 - \\frac{\\sqrt{2}}{2}\\right)}{\\pi}\\\\- \\frac{\\sqrt{2}}{2} & 0 & \\frac{\\sqrt{2}}{2} & \\frac{2 \\sqrt{2} L}{\\pi}\\\\0 & 0 & 0 & 1\\end{matrix}\\right]$"
      ],
      "text/plain": [
       "Matrix([\n",
       "[ sqrt(2)/4, -sqrt(3)/2, sqrt(2)/4,         2*L*(1 - sqrt(2)/2)/pi],\n",
       "[ sqrt(6)/4,        1/2, sqrt(6)/4, 2*sqrt(3)*L*(1 - sqrt(2)/2)/pi],\n",
       "[-sqrt(2)/2,          0, sqrt(2)/2,                 2*sqrt(2)*L/pi],\n",
       "[         0,          0,         0,                              1]])"
      ]
     },
     "metadata": {},
     "output_type": "display_data"
    },
    {
     "data": {
      "text/latex": [
       "$\\displaystyle \\left[\\begin{matrix}0.353553390593274 & -0.866025403784439 & 0.353553390593274 & 0.186461614289028\\\\0.612372435695794 & 0.5 & 0.612372435695794 & 0.322960989609908\\\\-0.707106781186548 & 0 & 0.707106781186548 & 0.900316316157106\\\\0 & 0 & 0 & 1.0\\end{matrix}\\right]$"
      ],
      "text/plain": [
       "Matrix([\n",
       "[ 0.353553390593274, -0.866025403784439, 0.353553390593274, 0.186461614289028],\n",
       "[ 0.612372435695794,                0.5, 0.612372435695794, 0.322960989609908],\n",
       "[-0.707106781186548,                  0, 0.707106781186548, 0.900316316157106],\n",
       "[                 0,                  0,                 0,               1.0]])"
      ]
     },
     "metadata": {},
     "output_type": "display_data"
    }
   ],
   "source": [
    "# 例1: theta に pi/4 を代入\n",
    "T_theta_sub = T.subs(theta, sp.pi/4)\n",
    "display(T_theta_sub)\n",
    "\n",
    "# 例2: phi に pi/3 を代入\n",
    "T_phi_sub = T.subs(phi, sp.pi/3)\n",
    "display(T_phi_sub)\n",
    "\n",
    "# 例3: theta に pi/4、phi に pi/3 を代入\n",
    "T_both_sub = T.subs({theta: sp.pi/4, phi: sp.pi/3})\n",
    "display(T_both_sub)\n",
    "\n",
    "# 例4: 具体的な数値に評価 (L = 1 とする場合)\n",
    "T_numeric = T_both_sub.subs(L, 1).evalf()\n",
    "display(T_numeric)"
   ]
  },
  {
   "cell_type": "markdown",
   "metadata": {},
   "source": [
    "## Additional sample"
   ]
  },
  {
   "cell_type": "code",
   "execution_count": 4,
   "metadata": {},
   "outputs": [
    {
     "data": {
      "text/latex": [
       "$\\displaystyle \\left[\\begin{matrix}\\cos{\\left(\\theta \\right)} & 0 & \\sin{\\left(\\theta \\right)} & \\frac{L \\left(1 - \\cos{\\left(\\theta \\right)}\\right)}{\\theta}\\\\0 & 1 & 0 & 0\\\\- \\sin{\\left(\\theta \\right)} & 0 & \\cos{\\left(\\theta \\right)} & \\frac{L \\sin{\\left(\\theta \\right)}}{\\theta}\\\\0 & 0 & 0 & 1\\end{matrix}\\right]$"
      ],
      "text/plain": [
       "Matrix([\n",
       "[ cos(theta), 0, sin(theta), L*(1 - cos(theta))/theta],\n",
       "[          0, 1,          0,                        0],\n",
       "[-sin(theta), 0, cos(theta),       L*sin(theta)/theta],\n",
       "[          0, 0,          0,                        1]])"
      ]
     },
     "metadata": {},
     "output_type": "display_data"
    },
    {
     "data": {
      "text/latex": [
       "$\\displaystyle \\left[\\begin{matrix}0.999999500000042 & 0 & 0.000999999833333342 & 0.000499999958325503 L\\\\0 & 1 & 0 & 0\\\\-0.000999999833333342 & 0 & 0.999999500000042 & 0.999999833333342 L\\\\0 & 0 & 0 & 1\\end{matrix}\\right]$"
      ],
      "text/plain": [
       "Matrix([\n",
       "[    0.999999500000042, 0, 0.000999999833333342, 0.000499999958325503*L],\n",
       "[                    0, 1,                    0,                      0],\n",
       "[-0.000999999833333342, 0,    0.999999500000042,    0.999999833333342*L],\n",
       "[                    0, 0,                    0,                      1]])"
      ]
     },
     "metadata": {},
     "output_type": "display_data"
    },
    {
     "data": {
      "text/latex": [
       "$\\displaystyle \\left[\\begin{matrix}-1 & 0 & 0 & \\frac{2 L}{\\pi}\\\\0 & 1 & 0 & 0\\\\0 & 0 & -1 & 0\\\\0 & 0 & 0 & 1\\end{matrix}\\right]$"
      ],
      "text/plain": [
       "Matrix([\n",
       "[-1, 0,  0, 2*L/pi],\n",
       "[ 0, 1,  0,      0],\n",
       "[ 0, 0, -1,      0],\n",
       "[ 0, 0,  0,      1]])"
      ]
     },
     "metadata": {},
     "output_type": "display_data"
    },
    {
     "data": {
      "text/latex": [
       "$\\displaystyle \\left[\\begin{matrix}-1.0 & 0 & 0 & 0.636619772367581\\\\0 & 1.0 & 0 & 0\\\\0 & 0 & -1.0 & 0\\\\0 & 0 & 0 & 1.0\\end{matrix}\\right]$"
      ],
      "text/plain": [
       "Matrix([\n",
       "[-1.0,   0,    0, 0.636619772367581],\n",
       "[   0, 1.0,    0,                 0],\n",
       "[   0,   0, -1.0,                 0],\n",
       "[   0,   0,    0,               1.0]])"
      ]
     },
     "metadata": {},
     "output_type": "display_data"
    }
   ],
   "source": [
    "T_phi_sub = T.subs(phi, 0)\n",
    "display(T_phi_sub)\n",
    "\n",
    "# 例2: theta に 0.01、phi に pi/3 を代入\n",
    "T_both_sub = T.subs({theta: 0.001, phi: 0})\n",
    "display(T_both_sub)\n",
    "\n",
    "# 例3: theta に pi/4、phi に pi/3 を代入\n",
    "T_both_sub = T.subs({theta: sp.pi, phi: 0})\n",
    "display(T_both_sub)\n",
    "\n",
    "# 例4: 具体的な数値に評価 (L = 1 とする場合)\n",
    "T_numeric = T_both_sub.subs(L, 1).evalf()\n",
    "display(T_numeric)"
   ]
  },
  {
   "cell_type": "markdown",
   "metadata": {},
   "source": [
    "## Ligament attachment"
   ]
  },
  {
   "cell_type": "code",
   "execution_count": 5,
   "metadata": {},
   "outputs": [
    {
     "data": {
      "text/latex": [
       "$\\displaystyle \\left[\\begin{matrix}a \\cos{\\left(\\frac{\\pi i}{2} + \\frac{\\pi}{4} \\right)}\\\\a \\sin{\\left(\\frac{\\pi i}{2} + \\frac{\\pi}{4} \\right)}\\\\0\\end{matrix}\\right]$"
      ],
      "text/plain": [
       "Matrix([\n",
       "[a*cos(pi*i/2 + pi/4)],\n",
       "[a*sin(pi*i/2 + pi/4)],\n",
       "[                   0]])"
      ]
     },
     "metadata": {},
     "output_type": "display_data"
    },
    {
     "data": {
      "text/latex": [
       "$\\displaystyle \\left[\\begin{matrix}\\frac{\\sqrt{2} a}{2}\\\\- \\frac{\\sqrt{2} a}{2}\\\\0\\end{matrix}\\right]$"
      ],
      "text/plain": [
       "Matrix([\n",
       "[ sqrt(2)*a/2],\n",
       "[-sqrt(2)*a/2],\n",
       "[           0]])"
      ]
     },
     "metadata": {},
     "output_type": "display_data"
    },
    {
     "data": {
      "text/latex": [
       "$\\displaystyle \\left[\\begin{matrix}\\frac{L \\left(1 - \\cos{\\left(\\theta \\right)}\\right) \\cos{\\left(\\phi \\right)}}{\\theta} + \\frac{\\sqrt{2} a \\sin{\\left(\\phi \\right)}}{2} + \\frac{\\sqrt{2} a \\cos{\\left(\\phi \\right)} \\cos{\\left(\\theta \\right)}}{2}\\\\\\frac{L \\left(1 - \\cos{\\left(\\theta \\right)}\\right) \\sin{\\left(\\phi \\right)}}{\\theta} + \\frac{\\sqrt{2} a \\sin{\\left(\\phi \\right)} \\cos{\\left(\\theta \\right)}}{2} - \\frac{\\sqrt{2} a \\cos{\\left(\\phi \\right)}}{2}\\\\\\frac{L \\sin{\\left(\\theta \\right)}}{\\theta} - \\frac{\\sqrt{2} a \\sin{\\left(\\theta \\right)}}{2}\\end{matrix}\\right]$"
      ],
      "text/plain": [
       "Matrix([\n",
       "[L*(1 - cos(theta))*cos(phi)/theta + sqrt(2)*a*sin(phi)/2 + sqrt(2)*a*cos(phi)*cos(theta)/2],\n",
       "[L*(1 - cos(theta))*sin(phi)/theta + sqrt(2)*a*sin(phi)*cos(theta)/2 - sqrt(2)*a*cos(phi)/2],\n",
       "[                                               L*sin(theta)/theta - sqrt(2)*a*sin(theta)/2]])"
      ]
     },
     "metadata": {},
     "output_type": "display_data"
    },
    {
     "data": {
      "text/latex": [
       "$\\displaystyle \\sqrt{\\left|{\\frac{L \\sin{\\left(\\theta \\right)}}{\\theta} + \\frac{\\sqrt{2} a \\sin{\\left(\\theta \\right)}}{2}}\\right|^{2} + \\left|{\\frac{L \\left(\\cos{\\left(\\theta \\right)} - 1\\right) \\sin{\\left(\\phi \\right)}}{\\theta} + \\frac{\\sqrt{2} a \\sin{\\left(\\phi \\right)} \\cos{\\left(\\theta \\right)}}{2} + \\frac{\\sqrt{2} a \\cos{\\left(\\phi \\right)}}{2} - \\frac{\\sqrt{2} a}{2}}\\right|^{2} + \\left|{\\frac{L \\left(\\cos{\\left(\\theta \\right)} - 1\\right) \\cos{\\left(\\phi \\right)}}{\\theta} - \\frac{\\sqrt{2} a \\sin{\\left(\\phi \\right)}}{2} + \\frac{\\sqrt{2} a \\cos{\\left(\\phi \\right)} \\cos{\\left(\\theta \\right)}}{2} + \\frac{\\sqrt{2} a}{2}}\\right|^{2}}$"
      ],
      "text/plain": [
       "sqrt(Abs(L*sin(theta)/theta + sqrt(2)*a*sin(theta)/2)**2 + Abs(L*(cos(theta) - 1)*sin(phi)/theta + sqrt(2)*a*sin(phi)*cos(theta)/2 + sqrt(2)*a*cos(phi)/2 - sqrt(2)*a/2)**2 + Abs(L*(cos(theta) - 1)*cos(phi)/theta - sqrt(2)*a*sin(phi)/2 + sqrt(2)*a*cos(phi)*cos(theta)/2 + sqrt(2)*a/2)**2)"
      ]
     },
     "metadata": {},
     "output_type": "display_data"
    }
   ],
   "source": [
    "i = sp.symbols('i')\n",
    "a = sp.symbols('a')\n",
    "pv_l = sp.Matrix([a * sp.cos(sp.pi/2*i +sp.pi/4), a * sp.sin(sp.pi/2*i +sp.pi/4), 0])\n",
    "display(pv_l)\n",
    "\n",
    "pv_l_ilist = []\n",
    "for i_num in range(4):\n",
    "    pv_l_i = pv_l.subs({i: i_num})\n",
    "    pv_l_ilist.append(pv_l_i)\n",
    "display(pv_l_i)\n",
    "\n",
    "\n",
    "pv_h_hg = T * pv_l.col_join(sp.Matrix([1]))\n",
    "pv_h = sp.Matrix(pv_h_hg[:-1])\n",
    "\n",
    "pv_h_ilist = []\n",
    "for i_num in range(4):\n",
    "    pv_h_i = pv_h.subs({i: i_num})\n",
    "    pv_h_ilist.append(pv_h_i)\n",
    "display(pv_h_i)\n",
    "\n",
    "\n",
    "ligament_list = []\n",
    "for i_num in range(4):\n",
    "    ligament = pv_h_ilist[i_num] - pv_l_ilist[i_num]\n",
    "    ligament_list.append(ligament)\n",
    "\n",
    "ligament_list.append(pv_h_ilist[1] - pv_l_ilist[0])\n",
    "ligament_list.append(pv_h_ilist[0] - pv_l_ilist[1])\n",
    "ligament_list.append(pv_h_ilist[3] - pv_l_ilist[2])\n",
    "ligament_list.append(pv_h_ilist[2] - pv_l_ilist[3])\n",
    "\n",
    "\n",
    "#display(p_parallel_list[3])\n",
    "#norm = sp.sqrt(sum(comp**2 for comp in p_parallel_list[0]))\n",
    "norm_list = []\n",
    "for i_num in range(len(ligament_list)):\n",
    "    norm = ligament_list[i_num].norm()\n",
    "    norm_list.append(norm)\n",
    "display(norm)\n",
    "\n"
   ]
  },
  {
   "cell_type": "code",
   "execution_count": 11,
   "metadata": {},
   "outputs": [
    {
     "data": {
      "image/png": "[encoded data removed]",
      "text/plain": [
       "<Figure size 640x480 with 1 Axes>"
      ]
     },
     "metadata": {},
     "output_type": "display_data"
    }
   ],
   "source": [
    "# theta の値を指定してノルムを計算\n",
    "theta_vals = np.linspace(0.0001, 1.0 *np.pi, 100)\n",
    "\n",
    "norm_vals_list = []\n",
    "for i_num in range(len(ligament_list)):\n",
    "    norm_vals = [norm_list[i_num].subs({L: 20, a: 5, theta: val, phi: 0.0}).evalf() for val in theta_vals]\n",
    "    norm_vals_list.append(norm_vals)\n",
    "    #pv_l_i = pv_l.subs({L: 20, a: 5, i: i_num})\n",
    "\n",
    "# グラフのプロット\n",
    "for i_num in range(len(ligament_list)):\n",
    "    plt.plot(theta_vals, norm_vals_list[i_num], label=f'#{i_num}')\n",
    "#plt.title('Norm of the vector y as a function of theta')\n",
    "plt.xlabel('Theta (radians)')\n",
    "plt.ylabel('Ligament length [mm]')\n",
    "plt.grid()\n",
    "plt.legend()\n",
    "plt.show()\n"
   ]
  },
  {
   "cell_type": "code",
   "execution_count": 7,
   "metadata": {},
   "outputs": [
    {
     "data": {
      "text/latex": [
       "$\\displaystyle \\left[\\begin{matrix}1 & 0 & 0 & 0 & 0 & 0 & 0\\\\0 & 1 & 0 & 0 & 0 & 0 & 0\\\\0 & 0 & 1 & 0 & 0 & 0 & 0\\end{matrix}\\right]$"
      ],
      "text/plain": [
       "Matrix([\n",
       "[1, 0, 0, 0, 0, 0, 0],\n",
       "[0, 1, 0, 0, 0, 0, 0],\n",
       "[0, 0, 1, 0, 0, 0, 0]])"
      ]
     },
     "execution_count": 7,
     "metadata": {},
     "output_type": "execute_result"
    }
   ],
   "source": [
    "M1 = sp.eye(3)\n",
    "M2 = sp.zeros(3, 4)\n",
    "M1.row_join(M2)"
   ]
  },
  {
   "cell_type": "markdown",
   "metadata": {},
   "source": [
    "## col_join example"
   ]
  },
  {
   "cell_type": "code",
   "execution_count": 8,
   "metadata": {},
   "outputs": [
    {
     "data": {
      "text/latex": [
       "$\\displaystyle \\left[\\begin{matrix}a \\cos{\\left(\\frac{\\pi i}{2} + \\frac{\\pi}{4} \\right)}\\\\a \\sin{\\left(\\frac{\\pi i}{2} + \\frac{\\pi}{4} \\right)}\\\\0\\end{matrix}\\right]$"
      ],
      "text/plain": [
       "Matrix([\n",
       "[a*cos(pi*i/2 + pi/4)],\n",
       "[a*sin(pi*i/2 + pi/4)],\n",
       "[                   0]])"
      ]
     },
     "metadata": {},
     "output_type": "display_data"
    },
    {
     "data": {
      "text/latex": [
       "$\\displaystyle \\left[\\begin{matrix}a \\cos{\\left(\\frac{\\pi i}{2} + \\frac{\\pi}{4} \\right)}\\\\a \\sin{\\left(\\frac{\\pi i}{2} + \\frac{\\pi}{4} \\right)}\\\\0\\\\1\\end{matrix}\\right]$"
      ],
      "text/plain": [
       "Matrix([\n",
       "[a*cos(pi*i/2 + pi/4)],\n",
       "[a*sin(pi*i/2 + pi/4)],\n",
       "[                   0],\n",
       "[                   1]])"
      ]
     },
     "metadata": {},
     "output_type": "display_data"
    }
   ],
   "source": [
    "pv_sample = sp.Matrix([a * sp.cos(sp.pi/2*i +sp.pi/4), a * sp.sin(sp.pi/2*i +sp.pi/4), 0])\n",
    "display(pv_sample)\n",
    "pv_hg_sample = pv_sample.col_join(sp.Matrix([1]))\n",
    "display(pv_hg_sample)"
   ]
  },
  {
   "cell_type": "code",
   "execution_count": null,
   "metadata": {},
   "outputs": [],
   "source": []
  }
 ],
 "metadata": {
  "kernelspec": {
   "display_name": ".venv",
   "language": "python",
   "name": "python3"
  },
  "language_info": {
   "codemirror_mode": {
    "name": "ipython",
    "version": 3
   },
   "file_extension": ".py",
   "mimetype": "text/x-python",
   "name": "python",
   "nbconvert_exporter": "python",
   "pygments_lexer": "ipython3",
   "version": "3.11.10"
  }
 },
 "nbformat": 4,
 "nbformat_minor": 2
}
